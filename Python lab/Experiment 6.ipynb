{
 "cells": [
  {
   "cell_type": "markdown",
   "id": "452189f3",
   "metadata": {},
   "source": [
    " Write a Python function to find the Max of three numbers."
   ]
  },
  {
   "cell_type": "code",
   "execution_count": 1,
   "id": "e65238d2",
   "metadata": {},
   "outputs": [
    {
     "name": "stdout",
     "output_type": "stream",
     "text": [
      "Enter num1: 23\n",
      "Enter num2: 45\n",
      "Enter num3: 44\n",
      "Maximum of the three numbers is: 45\n"
     ]
    }
   ],
   "source": [
    "def Max(a, b, c):\n",
    "    max_num = a\n",
    "    if b > max_num:\n",
    "        max_num = b\n",
    "    if c > max_num:\n",
    "        max_num = c\n",
    "    return max_num\n",
    "\n",
    "\n",
    "num1 = int(input(\"Enter num1: \"))\n",
    "num2 = int(input(\"Enter num2: \"))\n",
    "num3 = int(input(\"Enter num3: \"))\n",
    "print(\"Maximum of the three numbers is:\", Max(num1, num2, num3))\n"
   ]
  },
  {
   "cell_type": "markdown",
   "id": "7c335070",
   "metadata": {},
   "source": [
    " Write a Python program to reverse a string."
   ]
  },
  {
   "cell_type": "code",
   "execution_count": 9,
   "id": "7d6245e2",
   "metadata": {},
   "outputs": [
    {
     "name": "stdout",
     "output_type": "stream",
     "text": [
      "Reversed string: dlroW0lleH\n"
     ]
    }
   ],
   "source": [
    "def reverse_string(string):\n",
    "    reversed_str = \"\"\n",
    "    for char in string:\n",
    "        reversed_str = char + reversed_str\n",
    "    return reversed_str\n",
    "\n",
    "# Example usage:\n",
    "str1 = \"Hell0World\"\n",
    "rev_str = reverse_string(str1)\n",
    "print(\"Reversed string:\", rev_str)\n"
   ]
  },
  {
   "cell_type": "code",
   "execution_count": 10,
   "id": "5aab932c",
   "metadata": {},
   "outputs": [
    {
     "name": "stdout",
     "output_type": "stream",
     "text": [
      "enter the number: 5\n",
      "Factorial of 5 is: 120\n"
     ]
    }
   ],
   "source": [
    "def factorial(n):\n",
    "    if n < 0:\n",
    "        return \"Factorial is not defined for negative numbers\"\n",
    "    elif n == 0:\n",
    "        return 1\n",
    "    else:\n",
    "        result = 1\n",
    "        for i in range(1, n + 1):\n",
    "            result *= i\n",
    "        return result\n",
    "\n",
    "number = int(input(\"enter the number: \"))\n",
    "print(\"Factorial of\", number, \"is:\", factorial(number))\n"
   ]
  },
  {
   "cell_type": "code",
   "execution_count": 14,
   "id": "5caad579",
   "metadata": {},
   "outputs": [
    {
     "name": "stdout",
     "output_type": "stream",
     "text": [
      "Reversed string (word by word): shyam is name my\n"
     ]
    }
   ],
   "source": [
    "# write a Python class to reverse a string word by word.\n",
    "class Reverser:\n",
    "    def rev_words(self, string):\n",
    "        words = string.split()\n",
    "        reversed_string = ' '.join(reversed(words))\n",
    "        return reversed_string\n",
    "\n",
    "# Example usage:\n",
    "reverse = Reverser()\n",
    "str = \"my name is shyam\"\n",
    "rev = reverse.rev_words(str)\n",
    "print(\"Reversed string (word by word):\", rev)\n"
   ]
  },
  {
   "cell_type": "markdown",
   "id": "7bf8a6ab",
   "metadata": {},
   "source": [
    "Write a Python class named Rectangle constructed by a length and width\n",
    "and a method which will compute the area of a rectangle."
   ]
  },
  {
   "cell_type": "code",
   "execution_count": 17,
   "id": "49bc46c3",
   "metadata": {},
   "outputs": [
    {
     "name": "stdout",
     "output_type": "stream",
     "text": [
      "enter the length: 23\n",
      "enter the breadth: 34\n",
      "Area of rectangle : 782\n"
     ]
    }
   ],
   "source": [
    "class Rectangle:\n",
    "    def __init__(self, length, width):\n",
    "        self.length = length\n",
    "        self.width = width\n",
    "\n",
    "    def area(self):\n",
    "        return self.length * self.width\n",
    "l=int(input(\"enter the length: \"))\n",
    "b=int(input(\"enter the breadth: \"))\n",
    "rectangle = Rectangle(l, b)\n",
    "print(\"Area of rectangle :\", rectangle.area())"
   ]
  },
  {
   "cell_type": "code",
   "execution_count": null,
   "id": "4161e9d6",
   "metadata": {},
   "outputs": [],
   "source": []
  },
  {
   "cell_type": "code",
   "execution_count": null,
   "id": "4b5b60a0",
   "metadata": {},
   "outputs": [],
   "source": []
  },
  {
   "cell_type": "code",
   "execution_count": null,
   "id": "1a74146d",
   "metadata": {},
   "outputs": [],
   "source": []
  }
 ],
 "metadata": {
  "kernelspec": {
   "display_name": "Python 3 (ipykernel)",
   "language": "python",
   "name": "python3"
  },
  "language_info": {
   "codemirror_mode": {
    "name": "ipython",
    "version": 3
   },
   "file_extension": ".py",
   "mimetype": "text/x-python",
   "name": "python",
   "nbconvert_exporter": "python",
   "pygments_lexer": "ipython3",
   "version": "3.10.9"
  }
 },
 "nbformat": 4,
 "nbformat_minor": 5
}
