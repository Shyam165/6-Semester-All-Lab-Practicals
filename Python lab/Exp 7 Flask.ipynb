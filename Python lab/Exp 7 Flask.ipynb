{
 "cells": [
  {
   "cell_type": "code",
   "execution_count": 1,
   "id": "606a3804",
   "metadata": {},
   "outputs": [],
   "source": [
    "from flask import Flask"
   ]
  },
  {
   "cell_type": "code",
   "execution_count": 2,
   "id": "1cac8b65",
   "metadata": {},
   "outputs": [],
   "source": [
    "# from flask import Flask\n",
    "# app = Flask(__name__)\n",
    "# @app.route('/home')\n",
    "# def home():\n",
    "#     return \"home page\"\n",
    "\n",
    "# @app.route('/admin')\n",
    "# def admin():\n",
    "#     return \"admin page\"\n",
    "\n",
    "# @app.route('/department')\n",
    "# def department():\n",
    "#     return \"department page\"\n",
    "\n",
    "# if __name__=='__main__':\n",
    "#     app.run()"
   ]
  },
  {
   "cell_type": "code",
   "execution_count": 3,
   "id": "98b739e0",
   "metadata": {},
   "outputs": [],
   "source": [
    "# from flask import Flask\n",
    "# app = Flask(__name__)\n",
    "\n",
    "\n",
    "# @app.route('/hello/<name>')\n",
    "# def hello_name(name):\n",
    "#    return 'Hello %s!' % name\n",
    "\n",
    "# @app.route('/uppname/<name>')\n",
    "# def uppname(name):\n",
    "#    return \"<h1> Upper Case:{} </h1>\".format(name.upper())\n",
    "\n",
    "# if __name__ == '__main__':\n",
    "#    app.run()"
   ]
  },
  {
   "cell_type": "code",
   "execution_count": 4,
   "id": "68d2170e",
   "metadata": {},
   "outputs": [],
   "source": [
    "# from flask import Flask, render_template\n",
    "# app = Flask(__name__, template_folder='template')\n",
    "\n",
    "\n",
    "# @app.route('/')\n",
    "# def home():\n",
    "#     return render_template('home.html')\n",
    "\n",
    "\n",
    "# if __name__ == '__main__':\n",
    "#    app.run()"
   ]
  },
  {
   "cell_type": "code",
   "execution_count": 5,
   "id": "434d23e8",
   "metadata": {},
   "outputs": [],
   "source": [
    "# from flask import Flask,render_template\n",
    "# app = Flask(__name__,template_folder='template')\n",
    "\n",
    "# @app.route(\"/\")\n",
    "# def index():\n",
    "#     # Prepare some data to pass to the template\n",
    "#     title = \"My Awesome Flask App\"\n",
    "#     message = \"Welcome to the homepage!\"\n",
    "    \n",
    "#     # Render the template with the prepared data\n",
    "#     return render_template(\"demo.html\", title=title, message=message)\n",
    "\n",
    "# if __name__ == '__main__':\n",
    "#   app.run()"
   ]
  },
  {
   "cell_type": "code",
   "execution_count": 6,
   "id": "d4ae6ecd",
   "metadata": {},
   "outputs": [],
   "source": [
    "# !DOCTYPE html>\n",
    "# <html>\n",
    "# <body bgcolor=cyan>\n",
    "\n",
    "# <a href=\"{{url_for('static',filename='160.jpg')}}\">Photos</a>\n",
    "\n",
    "# </body>\n",
    "# </html>"
   ]
  },
  {
   "cell_type": "code",
   "execution_count": 7,
   "id": "d21112e4",
   "metadata": {},
   "outputs": [],
   "source": [
    "import sqlite3"
   ]
  },
  {
   "cell_type": "code",
   "execution_count": 8,
   "id": "c3709939",
   "metadata": {},
   "outputs": [],
   "source": [
    "# conn = sqlite3.connect('my_db.db')#database name\n",
    "# print (\"Opened database successfully\")\n",
    "\n",
    "# conn.execute('CREATE TABLE StudentDetail1 (name TEXT, addr TEXT, city TEXT, pin TEXT)')\n",
    "# print (\"Table created successfully\");\n",
    "# conn.close()"
   ]
  },
  {
   "cell_type": "code",
   "execution_count": 9,
   "id": "d3c49988",
   "metadata": {},
   "outputs": [],
   "source": [
    "# conn = sqlite3.connect('my_db.db')\n",
    "# print (\"Opened database successfully\")\n",
    "# r_set=conn.execute('''select name from sqlite_master \n",
    "# \t\twhere type = 'table' ''')\n",
    "# for row in r_set:\n",
    "#     print(row)"
   ]
  },
  {
   "cell_type": "code",
   "execution_count": 10,
   "id": "6e916c87",
   "metadata": {},
   "outputs": [],
   "source": [
    "# conn = sqlite3.connect('my_db.db')#database name\n",
    "# print (\"Opened database successfully\")\n",
    "\n",
    "# conn.execute('CREATE TABLE StudentDetail2 (name TEXT, addr TEXT, city TEXT, pin TEXT)')\n",
    "# print (\"Table created successfully\");\n",
    "# conn.close()"
   ]
  },
  {
   "cell_type": "code",
   "execution_count": 11,
   "id": "de83a87d",
   "metadata": {},
   "outputs": [],
   "source": [
    "# conn = sqlite3.connect('my_db.db')\n",
    "# print (\"Opened database successfully\")\n",
    "# r_set=conn.execute('''select name from sqlite_master \n",
    "# \t\twhere type = 'table' ''')\n",
    "# for row in r_set:\n",
    "#     print(row)"
   ]
  },
  {
   "cell_type": "code",
   "execution_count": 12,
   "id": "dfbbfff6",
   "metadata": {},
   "outputs": [],
   "source": [
    "# #for inserting a values \n",
    "# r_set=conn.execute('''INSERT INTO StudentDetail1 (`name`, `addr`, `city`, `pin`) VALUES\n",
    "#   ('John Deo', 'gopalpura','jaipur', '302018'),\n",
    "#   ('Mohan', 'Malviya Nagar','jaipur', '302021'),\n",
    "#   ('Rows Noump', 'sitapura', 'agra', '302012');''')\n",
    "\n",
    "# print(\"No of Records added : \",r_set.rowcount)"
   ]
  },
  {
   "cell_type": "code",
   "execution_count": 13,
   "id": "60e29c12",
   "metadata": {},
   "outputs": [
    {
     "name": "stdout",
     "output_type": "stream",
     "text": [
      " * Serving Flask app '__main__'\n",
      " * Debug mode: off\n"
     ]
    },
    {
     "name": "stderr",
     "output_type": "stream",
     "text": [
      "WARNING: This is a development server. Do not use it in a production deployment. Use a production WSGI server instead.\n",
      " * Running on http://127.0.0.1:5000\n",
      "Press CTRL+C to quit\n",
      "127.0.0.1 - - [26/May/2024 15:23:19] \"GET / HTTP/1.1\" 200 -\n",
      "127.0.0.1 - - [26/May/2024 15:23:20] \"GET /enternewof HTTP/1.1\" 200 -\n"
     ]
    }
   ],
   "source": [
    "from flask import Flask,render_template,request,url_for\n",
    "\n",
    "app = Flask(__name__,template_folder='template')\n",
    "\n",
    "\n",
    "@app.route('/')\n",
    "def home():\n",
    "  \n",
    "    return  render_template('home.html')\n",
    "\n",
    "@app.route('/enternewof')\n",
    "def new_student():\n",
    "   return render_template('student.html')\n",
    "\n",
    "@app.route('/addrecof',methods = ['POST', 'GET'])\n",
    "def addrec():\n",
    "   if request.method == 'POST':\n",
    "      #try:\n",
    "         nm = request.form.get('nm')\n",
    "         addr = request.form.get('add')\n",
    "         city = request.form.get('city')\n",
    "         pin = request.form.get('pin')\n",
    "         \n",
    "         conn = sqlite3.connect('my_db.db')  \n",
    "            \n",
    "         cur = conn.cursor()\n",
    "         cur.execute(\"INSERT INTO StudentDetail1(name,addr,city,pin) VALUES (?,?,?,?)\",(nm,addr,city,pin))\n",
    "         conn.commit()\n",
    "         msg = \"Student successfully Added\"  \n",
    "         return render_template(\"result.html\",msg = msg)\n",
    "         conn.close()\n",
    "        \n",
    "@app.route('/listof')\n",
    "def list():\n",
    "    conn = sqlite3.connect('my_db.db')  \n",
    "    conn.row_factory = sqlite3.Row  \n",
    "    cur = conn.cursor()  \n",
    "    cur.execute(\"select * from StudentDetail1\")  \n",
    "    rows = cur.fetchall()  \n",
    "    return render_template(\"list.html\",rows = rows)\n",
    "\n",
    "@app.route('/del_studentof')\n",
    "def del_student():\n",
    "    conn = sqlite3.connect('my_db.db')     \n",
    "    cur = conn.cursor()  \n",
    "    cur.execute(\"delete from StudentDetail1\")\n",
    "    conn.commit()    \n",
    "    return render_template(\"list.html\")\n",
    "if __name__ == '__main__':\n",
    "   app.run()"
   ]
  },
  {
   "cell_type": "code",
   "execution_count": 14,
   "id": "92bd00bb",
   "metadata": {},
   "outputs": [],
   "source": [
    "# from flask import Flask, url_for\n",
    "\n",
    "# app = Flask(__name__)\n",
    "\n",
    "# @app.route('/')\n",
    "# def home():\n",
    "#     return 'This is the home page'\n",
    "\n",
    "# @app.route('/about')\n",
    "# def about():\n",
    "#     return 'This is the about page'\n",
    "\n",
    "# @app.route('/user/<username>')\n",
    "# def show_user_profile(username):\n",
    "#     return f'User: {username}'\n",
    "\n",
    "# @app.route('/url_example')\n",
    "# def url_example():\n",
    "#     home_url = url_for('home')\n",
    "#     about_url = url_for('about')\n",
    "#     user_url = url_for('show_user_profile', username='john_doe')\n",
    "#     return f'Home URL: {home_url}, About URL: {about_url}, User URL: {user_url}'\n",
    "\n",
    "# if __name__ == '__main__':\n",
    "#     app.run()\n",
    "\n"
   ]
  },
  {
   "cell_type": "code",
   "execution_count": 15,
   "id": "ae505fbd",
   "metadata": {},
   "outputs": [],
   "source": [
    "# from flask import Flask, render_template\n",
    "\n",
    "# app = Flask(__name__,template_folder='template')\n",
    "\n",
    "# @app.route('/')\n",
    "# def home():\n",
    "#     title = \"Welcome to My Website\"\n",
    "#     message = \"Hello, Flask Templates!\"\n",
    "#     return render_template('index.html', title=title, message=message)\n",
    "\n",
    "# if __name__ == '__main__':\n",
    "#     app.run()\n"
   ]
  },
  {
   "cell_type": "code",
   "execution_count": null,
   "id": "3fecdd7d",
   "metadata": {},
   "outputs": [],
   "source": []
  }
 ],
 "metadata": {
  "kernelspec": {
   "display_name": "Python 3 (ipykernel)",
   "language": "python",
   "name": "python3"
  },
  "language_info": {
   "codemirror_mode": {
    "name": "ipython",
    "version": 3
   },
   "file_extension": ".py",
   "mimetype": "text/x-python",
   "name": "python",
   "nbconvert_exporter": "python",
   "pygments_lexer": "ipython3",
   "version": "3.10.9"
  }
 },
 "nbformat": 4,
 "nbformat_minor": 5
}
