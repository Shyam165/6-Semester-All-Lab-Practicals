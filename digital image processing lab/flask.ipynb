{
 "cells": [
  {
   "cell_type": "code",
   "execution_count": 1,
   "id": "f2be5c63",
   "metadata": {},
   "outputs": [],
   "source": [
    "import sqlite3"
   ]
  },
  {
   "cell_type": "code",
   "execution_count": 2,
   "id": "8101b381",
   "metadata": {},
   "outputs": [],
   "source": [
    "# from flask import Flask, render_template, url_for, request\n",
    "# app = Flask(__name__, template_folder='template')\n",
    "# @app.route('/')\n",
    "# def home():\n",
    "#     title = 'welcome to flask app'\n",
    "#     message = 'my name is shyam singh'\n",
    "#     return render_template(\"index.html\", title=title, message = message)\n",
    "    \n",
    "# @app.route('/adminof')\n",
    "# def about():\n",
    "#     message2 = \"this is about us page\"\n",
    "#     return render_template(\"about.html\", message2=message2)\n",
    "\n",
    "# @app.route('/department/<name>')\n",
    "# def department(name):\n",
    "#     return \"department page %s!\" % name \n",
    "\n",
    "# if __name__=='__main__':\n",
    "#     app.run()\n"
   ]
  },
  {
   "cell_type": "code",
   "execution_count": 3,
   "id": "0f86c92c",
   "metadata": {},
   "outputs": [],
   "source": [
    "# conn = sqlite3.connect('mydb.db')\n",
    "# print(\"opened database successfully\")\n",
    "# conn.execute('''\n",
    "#     CREATE TABLE student1(name TEXT, addr TEXT, ph TEXT)\n",
    "# ''')\n",
    "# conn.commit()\n",
    "# print(\"table created successfully\")"
   ]
  },
  {
   "cell_type": "code",
   "execution_count": 4,
   "id": "bff57a16",
   "metadata": {},
   "outputs": [],
   "source": [
    "# conn = sqlite3.connect('mydb.db')\n",
    "# print(\"opened database successfully\")\n",
    "# row_set=conn.execute('''\n",
    "#    select name from sqlite_master\n",
    "#    where type = 'table'\n",
    "# ''')\n",
    "# for row in row_set:\n",
    "#     print(row)"
   ]
  },
  {
   "cell_type": "code",
   "execution_count": 5,
   "id": "784db637",
   "metadata": {},
   "outputs": [],
   "source": [
    "# conn = sqlite3.connect('mydb.db')\n",
    "# print(\"opened database successfully\")\n",
    "# conn.execute('''\n",
    "#     insert into student1(name, addr, ph) values('rohan', 'jaipur', '3545323523');\n",
    "# ''')\n",
    "# conn.commit()\n",
    "# print(\"data inserted successfully\")"
   ]
  },
  {
   "cell_type": "code",
   "execution_count": 6,
   "id": "a4c7f730",
   "metadata": {},
   "outputs": [],
   "source": [
    "# conn = sqlite3.connect('mydb.db')\n",
    "# print(\"opened database successfully\")\n",
    "# rows=conn.execute('''\n",
    "#    select * from student1;\n",
    "# ''')\n",
    "# data = rows.fetchall()\n",
    "# for d in data:\n",
    "#     print(d)"
   ]
  },
  {
   "cell_type": "code",
   "execution_count": 7,
   "id": "7c142e26",
   "metadata": {},
   "outputs": [],
   "source": [
    "# conn = sqlite3.connect('mydb.db')\n",
    "# print(\"opened database successfully\")\n",
    "# conn.execute('''\n",
    "#     update student1 set name = 'sohan' where  ph = '3523523';\n",
    "# ''')\n",
    "# conn.commit()\n",
    "# print(\"data updated successfully\")"
   ]
  },
  {
   "cell_type": "code",
   "execution_count": 8,
   "id": "3e2f451a",
   "metadata": {},
   "outputs": [],
   "source": [
    "# conn = sqlite3.connect('mydb.db')\n",
    "# print(\"opened database successfully\")\n",
    "# rows=conn.execute('''\n",
    "#    select * from student1;\n",
    "# ''')\n",
    "# data = rows.fetchall()\n",
    "# for d in data:\n",
    "#     print(d)"
   ]
  },
  {
   "cell_type": "code",
   "execution_count": 9,
   "id": "6dee4875",
   "metadata": {},
   "outputs": [
    {
     "name": "stdout",
     "output_type": "stream",
     "text": [
      " * Serving Flask app '__main__'\n",
      " * Debug mode: off\n"
     ]
    },
    {
     "name": "stderr",
     "output_type": "stream",
     "text": [
      "WARNING: This is a development server. Do not use it in a production deployment. Use a production WSGI server instead.\n",
      " * Running on http://127.0.0.1:5000\n",
      "Press CTRL+C to quit\n",
      "127.0.0.1 - - [26/May/2024 17:56:51] \"GET / HTTP/1.1\" 200 -\n",
      "127.0.0.1 - - [26/May/2024 17:56:53] \"GET /list HTTP/1.1\" 200 -\n",
      "127.0.0.1 - - [26/May/2024 17:56:59] \"GET / HTTP/1.1\" 200 -\n",
      "127.0.0.1 - - [26/May/2024 17:57:01] \"GET /enternew HTTP/1.1\" 200 -\n",
      "127.0.0.1 - - [26/May/2024 17:57:09] \"POST /addrec HTTP/1.1\" 200 -\n",
      "127.0.0.1 - - [26/May/2024 17:57:11] \"GET / HTTP/1.1\" 200 -\n",
      "127.0.0.1 - - [26/May/2024 17:57:13] \"GET /list HTTP/1.1\" 200 -\n",
      "127.0.0.1 - - [26/May/2024 17:57:33] \"GET / HTTP/1.1\" 200 -\n",
      "127.0.0.1 - - [26/May/2024 17:57:35] \"GET /delete HTTP/1.1\" 200 -\n",
      "127.0.0.1 - - [26/May/2024 17:57:36] \"GET / HTTP/1.1\" 200 -\n",
      "127.0.0.1 - - [26/May/2024 17:57:39] \"GET /list HTTP/1.1\" 200 -\n"
     ]
    }
   ],
   "source": [
    "from flask import Flask, render_template, url_for, request\n",
    "app = Flask(__name__, template_folder='template')\n",
    "@app.route('/')\n",
    "def home():\n",
    "    title = 'welcome to flask app'\n",
    "    message = 'now perform all operation related to database'\n",
    "    return render_template(\"home.html\", title=title, message = message)\n",
    "    \n",
    "@app.route('/enternew')\n",
    "def new_student():\n",
    "    return render_template(\"form.html\")\n",
    "\n",
    "@app.route('/addrec', methods=['POST', 'GET'])\n",
    "def addrec():\n",
    "    if request.method=='POST':\n",
    "        nm=request.form.get('nm')\n",
    "        addr=request.form.get('addr')\n",
    "        ph=request.form.get('ph')\n",
    "        \n",
    "        conn = sqlite3.connect('mydb.db')\n",
    "        cur=conn.cursor()\n",
    "        cur.execute(\"insert into student1(name, addr, ph) values(?,?,?)\", (nm, addr, ph))\n",
    "        conn.commit()\n",
    "        message=\"student added successfully\"\n",
    "        return render_template('result.html', message=message)\n",
    "        conn.close()\n",
    "\n",
    "@app.route('/list')\n",
    "def list():\n",
    "    conn = sqlite3.connect('mydb.db')\n",
    "    conn.row_factory=sqlite3.Row\n",
    "    cur=conn.cursor()\n",
    "    cur.execute(\"select * from student1\")\n",
    "    row_data=cur.fetchall()\n",
    "    return render_template(\"list.html\", row_data=row_data)\n",
    "\n",
    "\n",
    "@app.route('/delete')\n",
    "def del_student():\n",
    "    conn = sqlite3.connect('mydb.db')\n",
    "    cur=conn.cursor()\n",
    "    cur.execute(\"delete from student1\")\n",
    "    conn.commit()\n",
    "    return render_template(\"list.html\")\n",
    "\n",
    "if __name__=='__main__':\n",
    "    app.run()\n"
   ]
  },
  {
   "cell_type": "code",
   "execution_count": null,
   "id": "804db818",
   "metadata": {},
   "outputs": [],
   "source": []
  }
 ],
 "metadata": {
  "kernelspec": {
   "display_name": "Python 3 (ipykernel)",
   "language": "python",
   "name": "python3"
  },
  "language_info": {
   "codemirror_mode": {
    "name": "ipython",
    "version": 3
   },
   "file_extension": ".py",
   "mimetype": "text/x-python",
   "name": "python",
   "nbconvert_exporter": "python",
   "pygments_lexer": "ipython3",
   "version": "3.10.9"
  }
 },
 "nbformat": 4,
 "nbformat_minor": 5
}
