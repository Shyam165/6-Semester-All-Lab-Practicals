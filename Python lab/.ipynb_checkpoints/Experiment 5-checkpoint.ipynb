{
 "cells": [
  {
   "cell_type": "code",
   "execution_count": 5,
   "id": "a7f7fe96",
   "metadata": {},
   "outputs": [
    {
     "data": {
      "text/plain": [
       "'HELLOworld'"
      ]
     },
     "execution_count": 5,
     "metadata": {},
     "output_type": "execute_result"
    }
   ],
   "source": [
    "str=\" HELLO world \"\n",
    "str=str.replace(\" \", \"\")\n",
    "str"
   ]
  },
  {
   "cell_type": "code",
   "execution_count": 6,
   "id": "18019255",
   "metadata": {},
   "outputs": [
    {
     "data": {
      "text/plain": [
       "'HELLO world'"
      ]
     },
     "execution_count": 6,
     "metadata": {},
     "output_type": "execute_result"
    }
   ],
   "source": [
    "str=\" HELLO world \"\n",
    "str=str.strip()\n",
    "str"
   ]
  },
  {
   "cell_type": "code",
   "execution_count": 7,
   "id": "87571e99",
   "metadata": {},
   "outputs": [
    {
     "data": {
      "text/plain": [
       "'hello world'"
      ]
     },
     "execution_count": 7,
     "metadata": {},
     "output_type": "execute_result"
    }
   ],
   "source": [
    "str.lower()"
   ]
  },
  {
   "cell_type": "code",
   "execution_count": 8,
   "id": "b1363102",
   "metadata": {},
   "outputs": [
    {
     "data": {
      "text/plain": [
       "'HELLO WORLD'"
      ]
     },
     "execution_count": 8,
     "metadata": {},
     "output_type": "execute_result"
    }
   ],
   "source": [
    "str.upper()"
   ]
  },
  {
   "cell_type": "code",
   "execution_count": 10,
   "id": "834c3a0a",
   "metadata": {},
   "outputs": [
    {
     "data": {
      "text/plain": [
       "['hello', 'hi']"
      ]
     },
     "execution_count": 10,
     "metadata": {},
     "output_type": "execute_result"
    }
   ],
   "source": [
    "s=\"hello:hi\"\n",
    "s.split(\":\")  #always returns in a list as a output"
   ]
  },
  {
   "cell_type": "code",
   "execution_count": 11,
   "id": "974d2436",
   "metadata": {},
   "outputs": [
    {
     "data": {
      "text/plain": [
       "'hello:hiHELLO world'"
      ]
     },
     "execution_count": 11,
     "metadata": {},
     "output_type": "execute_result"
    }
   ],
   "source": [
    "#string concatenation\n",
    "s=s+str\n",
    "s"
   ]
  },
  {
   "cell_type": "code",
   "execution_count": 12,
   "id": "7261fe4a",
   "metadata": {},
   "outputs": [
    {
     "data": {
      "text/plain": [
       "['my', 'name', 'is', 'shyam']"
      ]
     },
     "execution_count": 12,
     "metadata": {},
     "output_type": "execute_result"
    }
   ],
   "source": [
    "s=\"my,name,is,shyam\"\n",
    "s=s.split(\",\")\n",
    "s"
   ]
  },
  {
   "cell_type": "code",
   "execution_count": 13,
   "id": "836732af",
   "metadata": {},
   "outputs": [
    {
     "data": {
      "text/plain": [
       "'my@name@is@shyam'"
      ]
     },
     "execution_count": 13,
     "metadata": {},
     "output_type": "execute_result"
    }
   ],
   "source": [
    "#joining the split string s by  using @\n",
    "join_s = \"@\".join(s)\n",
    "join_s"
   ]
  },
  {
   "cell_type": "code",
   "execution_count": null,
   "id": "029694f8",
   "metadata": {},
   "outputs": [],
   "source": [
    "# Iterating through keys\n",
    "print(\"Keys:\")\n",
    "for key in my_dict:\n",
    "    print(key)\n",
    "\n",
    "# Iterating through values\n",
    "print(\"Values:\")\n",
    "for value in my_dict.values():\n",
    "    print(value)"
   ]
  },
  {
   "cell_type": "code",
   "execution_count": 36,
   "id": "84e81e34",
   "metadata": {},
   "outputs": [
    {
     "name": "stdout",
     "output_type": "stream",
     "text": [
      "enter the name: 2004\n"
     ]
    }
   ],
   "source": [
    "dict={'shyam': '01-01-2003', 'rohit':'02-02-2004', 'rahul':'23-12-2002', 'ronak':'02-03-2005'}\n",
    "\n",
    "name=input(\"enter the name: \")\n",
    "\n",
    "if name in dict:\n",
    "    day, month, year=dict[name].split(\"-\")\n",
    "    l1=[day, month, year]\n",
    "    join_l1 = \"/\".join(l1)\n",
    "    print(\" dob of \", name, \" is \", join_l1)\n",
    "else:\n",
    "    print(name, \" is not found in birthday dict \")"
   ]
  },
  {
   "cell_type": "code",
   "execution_count": 34,
   "id": "143138b6",
   "metadata": {},
   "outputs": [
    {
     "data": {
      "text/plain": [
       "'my age is 21'"
      ]
     },
     "execution_count": 34,
     "metadata": {},
     "output_type": "execute_result"
    }
   ],
   "source": [
    "age=21\n",
    "str1 = \"my age is {}\".format(age) \n",
    "str1"
   ]
  },
  {
   "cell_type": "code",
   "execution_count": null,
   "id": "9ef3fd5a",
   "metadata": {},
   "outputs": [],
   "source": [
    "str=input"
   ]
  }
 ],
 "metadata": {
  "kernelspec": {
   "display_name": "Python 3 (ipykernel)",
   "language": "python",
   "name": "python3"
  },
  "language_info": {
   "codemirror_mode": {
    "name": "ipython",
    "version": 3
   },
   "file_extension": ".py",
   "mimetype": "text/x-python",
   "name": "python",
   "nbconvert_exporter": "python",
   "pygments_lexer": "ipython3",
   "version": "3.10.9"
  }
 },
 "nbformat": 4,
 "nbformat_minor": 5
}
