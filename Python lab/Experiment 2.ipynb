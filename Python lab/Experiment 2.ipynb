{
 "cells": [
  {
   "cell_type": "markdown",
   "id": "7f4596a1",
   "metadata": {},
   "source": [
    "# Experiment 2"
   ]
  },
  {
   "cell_type": "markdown",
   "id": "bc6055d6",
   "metadata": {},
   "source": [
    "Questions :-----\n",
    "\n",
    "1. Write a Python program to print maximum out of 3 numbers.\n",
    "\n",
    "2. Write a Python program to compute the compound Interest & simple interest\n",
    "\n",
    "3. Write a Python program to check given number is even or not.\n",
    "\n",
    "4. Using a for loop, write a program that prints out the decimal equivalents of 1/2, 1/3, 1/4, 1/10 (range(1,11))\n",
    "\n",
    "5. Write a program using a for loop that loops over a sequence.\n",
    "\n",
    "6. Write a program using while loop that asks the user for a number, and prints a countdown from that number to zero.\n",
    "\n",
    "7. write a program to print factorial number with while loop,\n",
    "\n",
    "8. write a program to print fabonacii series with while loop, numbers of terms should be enter by user."
   ]
  },
  {
   "cell_type": "markdown",
   "id": "81085d26",
   "metadata": {},
   "source": [
    "# 1. Write a Python program to print maximum out of 3 numbers."
   ]
  },
  {
   "cell_type": "code",
   "execution_count": 1,
   "id": "869ff298",
   "metadata": {},
   "outputs": [
    {
     "name": "stdout",
     "output_type": "stream",
     "text": [
      "Enter first number: 23\n",
      "Enter second number: 45\n",
      "Enter third number: 12\n",
      "Maximum number is: 45.0\n"
     ]
    }
   ],
   "source": [
    "num1 = float(input(\"Enter first number: \"))\n",
    "num2 = float(input(\"Enter second number: \"))\n",
    "num3 = float(input(\"Enter third number: \"))\n",
    "\n",
    "if num1 >= num2 and num1 >= num3:\n",
    "    print(\"Maximum number is:\", num1)\n",
    "elif num2 >= num1 and num2 >= num3:\n",
    "    print(\"Maximum number is:\", num2)\n",
    "else:\n",
    "    print(\"Maximum number is:\", num3)\n"
   ]
  },
  {
   "cell_type": "markdown",
   "id": "fdbce5d2",
   "metadata": {},
   "source": [
    "# 2. Write a Python program to compute the compound Interest & simple interest"
   ]
  },
  {
   "cell_type": "code",
   "execution_count": 2,
   "id": "b747a3f5",
   "metadata": {},
   "outputs": [
    {
     "name": "stdout",
     "output_type": "stream",
     "text": [
      "Enter principal amount: 2344\n",
      "Enter rate of interest: 12\n",
      "Enter time period in years: 5\n",
      "Simple Interest: 1406.4\n",
      "Compound Interest: 1786.9289054208018\n"
     ]
    }
   ],
   "source": [
    "principal = float(input(\"Enter principal amount: \"))\n",
    "rate = float(input(\"Enter rate of interest: \"))\n",
    "time = float(input(\"Enter time period in years: \"))\n",
    "\n",
    "# Simple Interest calculation\n",
    "simple_interest = (principal * rate * time) / 100\n",
    "\n",
    "# Compound Interest calculation\n",
    "compound_interest = principal * ((1 + rate / 100) ** time - 1)\n",
    "\n",
    "print(\"Simple Interest:\", simple_interest)\n",
    "print(\"Compound Interest:\", compound_interest)\n"
   ]
  },
  {
   "cell_type": "markdown",
   "id": "1209ab25",
   "metadata": {},
   "source": [
    "# 3. Write a Python program to check given number is even or not."
   ]
  },
  {
   "cell_type": "code",
   "execution_count": 3,
   "id": "9dae9c9c",
   "metadata": {},
   "outputs": [
    {
     "name": "stdout",
     "output_type": "stream",
     "text": [
      "Enter a number: 23\n",
      "The number is odd\n"
     ]
    }
   ],
   "source": [
    "number = int(input(\"Enter a number: \"))\n",
    "\n",
    "if number % 2 == 0:\n",
    "  print(\"The number is even\")\n",
    "else:\n",
    "  print(\"The number is odd\")\n"
   ]
  },
  {
   "cell_type": "markdown",
   "id": "111b466c",
   "metadata": {},
   "source": [
    "# 4. Using a for loop, write a program that prints out the decimal equivalents of 1/2, 1/3, 1/4, 1/10 (range(1,11))"
   ]
  },
  {
   "cell_type": "code",
   "execution_count": 4,
   "id": "7a582068",
   "metadata": {},
   "outputs": [
    {
     "name": "stdout",
     "output_type": "stream",
     "text": [
      "1/1 = 1.0\n",
      "1/2 = 0.5\n",
      "1/3 = 0.3333333333333333\n",
      "1/4 = 0.25\n",
      "1/5 = 0.2\n",
      "1/6 = 0.16666666666666666\n",
      "1/7 = 0.14285714285714285\n",
      "1/8 = 0.125\n",
      "1/9 = 0.1111111111111111\n",
      "1/10 = 0.1\n"
     ]
    }
   ],
   "source": [
    "for i in range(1, 11):\n",
    "  decimal = 1/i\n",
    "  print(f\"1/{i} = {decimal}\")\n"
   ]
  },
  {
   "cell_type": "markdown",
   "id": "22128652",
   "metadata": {},
   "source": [
    "# 5. Write a program using a for loop that loops over a sequence."
   ]
  },
  {
   "cell_type": "code",
   "execution_count": 5,
   "id": "8390e6b6",
   "metadata": {},
   "outputs": [
    {
     "name": "stdout",
     "output_type": "stream",
     "text": [
      "apple\n",
      "banana\n",
      "cherry\n"
     ]
    }
   ],
   "source": [
    "sequence = [\"apple\", \"banana\", \"cherry\"]\n",
    "\n",
    "# Loop through the sequence and print each item\n",
    "for item in sequence:\n",
    "  print(item)\n"
   ]
  },
  {
   "cell_type": "markdown",
   "id": "95c2e601",
   "metadata": {},
   "source": [
    "# 6. Write a program using while loop that asks the user for a number, and prints a countdown from that number to zero."
   ]
  },
  {
   "cell_type": "code",
   "execution_count": 10,
   "id": "0ea9c1d2",
   "metadata": {},
   "outputs": [
    {
     "name": "stdout",
     "output_type": "stream",
     "text": [
      "Enter A Number : 10\n",
      "10\n",
      "9\n",
      "8\n",
      "7\n",
      "6\n",
      "5\n",
      "4\n",
      "3\n",
      "2\n",
      "1\n",
      "0\n"
     ]
    }
   ],
   "source": [
    "n = int(input(\"Enter A Number : \"));\n",
    "while n >=0:\n",
    "  print(n);\n",
    "  n = n - 1;"
   ]
  },
  {
   "cell_type": "markdown",
   "id": "c98aa07c",
   "metadata": {},
   "source": [
    "# 7. write a program to print factorial number with while loop"
   ]
  },
  {
   "cell_type": "code",
   "execution_count": 6,
   "id": "03604d2d",
   "metadata": {},
   "outputs": [
    {
     "name": "stdout",
     "output_type": "stream",
     "text": [
      "enter your number5\n",
      "factorial of your number is 120\n"
     ]
    }
   ],
   "source": [
    "x = int(input(\"enter your number\"))\n",
    "i=1\n",
    "while(x>=1):\n",
    "    i=x*i;\n",
    "    x=x-1;\n",
    "    \n",
    "print(\"factorial of your number is\",i)"
   ]
  },
  {
   "cell_type": "markdown",
   "id": "181872d6",
   "metadata": {},
   "source": [
    "# 8. write a program to print fabonacii series with while loop, numbers of terms should be enter by user."
   ]
  },
  {
   "cell_type": "code",
   "execution_count": 7,
   "id": "0a3dbbd8",
   "metadata": {},
   "outputs": [
    {
     "name": "stdout",
     "output_type": "stream",
     "text": [
      "How many terms? 5\n",
      "Fibonacci sequence:\n",
      "0\n",
      "1\n",
      "1\n",
      "2\n",
      "3\n"
     ]
    }
   ],
   "source": [
    "nterms = int(input(\"How many terms? \"))\n",
    "\n",
    "# first two terms\n",
    "n1, n2 = 0, 1\n",
    "count = 0\n",
    "\n",
    "if nterms <= 0:\n",
    "   print(\"Please enter a positive integer\")\n",
    "\n",
    "elif nterms == 1:\n",
    "   print(\"Fibonacci sequence upto\",nterms,\":\")\n",
    "   print(n1)\n",
    "\n",
    "else:\n",
    "   print(\"Fibonacci sequence:\")\n",
    "   while count < nterms:\n",
    "       print(n1)\n",
    "       nth = n1 + n2\n",
    "       # update values\n",
    "       n1 = n2\n",
    "       n2 = nth\n",
    "       count += 1"
   ]
  },
  {
   "cell_type": "code",
   "execution_count": null,
   "id": "e2449259",
   "metadata": {},
   "outputs": [],
   "source": []
  }
 ],
 "metadata": {
  "kernelspec": {
   "display_name": "Python 3 (ipykernel)",
   "language": "python",
   "name": "python3"
  },
  "language_info": {
   "codemirror_mode": {
    "name": "ipython",
    "version": 3
   },
   "file_extension": ".py",
   "mimetype": "text/x-python",
   "name": "python",
   "nbconvert_exporter": "python",
   "pygments_lexer": "ipython3",
   "version": "3.10.9"
  }
 },
 "nbformat": 4,
 "nbformat_minor": 5
}
