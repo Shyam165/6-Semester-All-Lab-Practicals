{
 "cells": [
  {
   "cell_type": "code",
   "execution_count": 1,
   "id": "b2bace58",
   "metadata": {},
   "outputs": [
    {
     "name": "stdout",
     "output_type": "stream",
     "text": [
      "First element: 1\n",
      "Third element: 3\n",
      "Slice of the list: [3, 'a', 'b']\n",
      "Modified list: [10, 2, 3, 'a', 'b', 'c']\n",
      "Appended list: [10, 2, 3, 'a', 'b', 'c', 4]\n",
      "List after removal: [10, 2, 3, 'b', 'c', 4]\n",
      "Iterating through the list:\n",
      "10\n",
      "2\n",
      "3\n",
      "b\n",
      "c\n",
      "4\n",
      "Length of the list: 6\n"
     ]
    }
   ],
   "source": [
    "# Creating a list\n",
    "my_list = [1, 2, 3, 'a', 'b', 'c']\n",
    "\n",
    "# Accessing elements\n",
    "print(\"First element:\", my_list[0])   # Output: 1\n",
    "print(\"Third element:\", my_list[2])   # Output: 3\n",
    "print(\"Slice of the list:\", my_list[2:5]) # Output: [3, 'a', 'b']\n",
    "\n",
    "# Modifying elements\n",
    "my_list[0] = 10\n",
    "print(\"Modified list:\", my_list)      # Output: [10, 2, 3, 'a', 'b', 'c']\n",
    "\n",
    "# Appending elements\n",
    "my_list.append(4)\n",
    "print(\"Appended list:\", my_list)      # Output: [10, 2, 3, 'a', 'b', 'c', 4]\n",
    "\n",
    "# Removing elements\n",
    "my_list.remove('a')\n",
    "print(\"List after removal:\", my_list) # Output: [10, 2, 3, 'b', 'c', 4]\n",
    "\n",
    "# Iterating through the list\n",
    "print(\"Iterating through the list:\")\n",
    "for item in my_list:\n",
    "    print(item)\n",
    "\n",
    "# Finding the length of the list\n",
    "print(\"Length of the list:\", len(my_list)) # Output: 6\n"
   ]
  },
  {
   "cell_type": "code",
   "execution_count": 2,
   "id": "87d6a525",
   "metadata": {},
   "outputs": [
    {
     "name": "stdout",
     "output_type": "stream",
     "text": [
      "First element: 1\n",
      "Third element: 3\n",
      "Slice of the tuple: (3, 'a', 'b')\n",
      "Concatenated tuple: (1, 2, 3, 'a', 'b', 'c', 4, 5, 6)\n",
      "Iterating through the tuple:\n",
      "1\n",
      "2\n",
      "3\n",
      "a\n",
      "b\n",
      "c\n",
      "Length of the tuple: 6\n"
     ]
    }
   ],
   "source": [
    "# Creating a tuple\n",
    "my_tuple = (1, 2, 3, 'a', 'b', 'c')\n",
    "\n",
    "# Accessing elements\n",
    "print(\"First element:\", my_tuple[0])    # Output: 1\n",
    "print(\"Third element:\", my_tuple[2])    # Output: 3\n",
    "print(\"Slice of the tuple:\", my_tuple[2:5])  # Output: (3, 'a', 'b')\n",
    "\n",
    "# Immutable, so you can't modify elements or append new ones\n",
    "# my_tuple[0] = 10  # This will raise an error\n",
    "\n",
    "# Concatenating tuples\n",
    "another_tuple = (4, 5, 6)\n",
    "concatenated_tuple = my_tuple + another_tuple\n",
    "print(\"Concatenated tuple:\", concatenated_tuple)  # Output: (1, 2, 3, 'a', 'b', 'c', 4, 5, 6)\n",
    "\n",
    "# Iterating through the tuple\n",
    "print(\"Iterating through the tuple:\")\n",
    "for item in my_tuple:\n",
    "    print(item)\n",
    "\n",
    "# Finding the length of the tuple\n",
    "print(\"Length of the tuple:\", len(my_tuple))  # Output: 6\n"
   ]
  },
  {
   "cell_type": "code",
   "execution_count": 4,
   "id": "868f4d1c",
   "metadata": {},
   "outputs": [
    {
     "name": "stdout",
     "output_type": "stream",
     "text": [
      "Enter a number: 407\n",
      "407 is an Armstrong number\n"
     ]
    }
   ],
   "source": [
    "# Python program to check if the number is an Armstrong number or not\n",
    "\n",
    "# take input from the user\n",
    "num = int(input(\"Enter a number: \"))\n",
    "\n",
    "# initialize sum\n",
    "sum = 0\n",
    "\n",
    "# find the sum of the cube of each digit\n",
    "temp = num\n",
    "while temp > 0:\n",
    "   digit = temp % 10\n",
    "   sum += digit ** 3\n",
    "   temp //= 10\n",
    "\n",
    "# display the result\n",
    "if num == sum:\n",
    "   print(num,\"is an Armstrong number\")\n",
    "else:\n",
    "   print(num,\"is not an Armstrong number\")\n"
   ]
  },
  {
   "cell_type": "code",
   "execution_count": 5,
   "id": "1df8a5a5",
   "metadata": {},
   "outputs": [
    {
     "name": "stdout",
     "output_type": "stream",
     "text": [
      "Enter a number: 121\n",
      "121 is an Palindrome number\n"
     ]
    }
   ],
   "source": [
    "# Python program to check if the number is an Armstrong number or not\n",
    "\n",
    "# take input from the user\n",
    "num = int(input(\"Enter a number: \"))\n",
    "\n",
    "# initialize sum\n",
    "sum = 0\n",
    "\n",
    "# find the sum of the cube of each digit\n",
    "temp = num\n",
    "while temp > 0:\n",
    "   digit = temp % 10\n",
    "   sum = sum* 10 + digit\n",
    "   temp //= 10\n",
    "\n",
    "# display the result\n",
    "if num == sum:\n",
    "   print(num,\"is an Palindrome number\")\n",
    "else:\n",
    "   print(num,\"is not an Palindrome number\")\n"
   ]
  },
  {
   "cell_type": "code",
   "execution_count": 9,
   "id": "e4f6d874",
   "metadata": {},
   "outputs": [
    {
     "name": "stdout",
     "output_type": "stream",
     "text": [
      "Enter a number: 17\n",
      "17 is a prime number\n"
     ]
    }
   ],
   "source": [
    "# Program to check if a number is prime or not\n",
    "\n",
    "# To take input from the user\n",
    "num = int(input(\"Enter a number: \"))\n",
    "\n",
    "# define a flag variable\n",
    "flag = False\n",
    "\n",
    "if num == 1:\n",
    "    print(num, \"is not a prime number\")\n",
    "elif num > 1:\n",
    "    # check for factors\n",
    "    for i in range(2, num):\n",
    "        if (num % i) == 0:\n",
    "            # if factor is found, set flag to True\n",
    "            flag = True\n",
    "            # break out of loop\n",
    "            break\n",
    "\n",
    "    # check if flag is True\n",
    "    if flag:\n",
    "        print(num, \"is not a prime number\")\n",
    "    else:\n",
    "        print(num, \"is a prime number\")"
   ]
  },
  {
   "cell_type": "code",
   "execution_count": 11,
   "id": "6f4bee55",
   "metadata": {},
   "outputs": [
    {
     "name": "stdout",
     "output_type": "stream",
     "text": [
      "Set 1: {1, 2, 3, 4, 5}\n",
      "Set 2: {4, 5, 6, 7, 8}\n",
      "After adding 6 to Set 1: {1, 2, 3, 4, 5, 6}\n",
      "After removing 7 from Set 2: {4, 5, 6, 8}\n",
      "Union of Set 1 and Set 2: {1, 2, 3, 4, 5, 6, 8}\n",
      "Intersection of Set 1 and Set 2: {4, 5, 6}\n",
      "Difference of Set 1 and Set 2: {1, 2, 3}\n",
      "Elements of Set 1:\n",
      "1\n",
      "2\n",
      "3\n",
      "4\n",
      "5\n",
      "6\n",
      "Is 3 in Set 1? True\n",
      "Is 9 in Set 2? False\n",
      "Set 1 after clearing: set()\n"
     ]
    }
   ],
   "source": [
    "# Creating sets\n",
    "set1 = {1, 2, 3, 4, 5}\n",
    "set2 = {4, 5, 6, 7, 8}\n",
    "\n",
    "# Displaying sets\n",
    "print(\"Set 1:\", set1)\n",
    "print(\"Set 2:\", set2)\n",
    "\n",
    "# Adding elements to a set\n",
    "set1.add(6)\n",
    "print(\"After adding 6 to Set 1:\", set1)\n",
    "\n",
    "# Removing elements from a set\n",
    "set2.remove(7)\n",
    "print(\"After removing 7 from Set 2:\", set2)\n",
    "\n",
    "# Operations on sets\n",
    "print(\"Union of Set 1 and Set 2:\", set1.union(set2))\n",
    "print(\"Intersection of Set 1 and Set 2:\", set1.intersection(set2))\n",
    "print(\"Difference of Set 1 and Set 2:\", set1.difference(set2))\n",
    "\n",
    "# Iterating through a set\n",
    "print(\"Elements of Set 1:\")\n",
    "for element in set1:\n",
    "    print(element)\n",
    "\n",
    "# Checking for membership\n",
    "print(\"Is 3 in Set 1?\", 3 in set1)\n",
    "print(\"Is 9 in Set 2?\", 9 in set2)\n",
    "\n",
    "set1.clear()  # New function\n",
    "print(\"Set 1 after clearing:\", set1)\n"
   ]
  },
  {
   "cell_type": "code",
   "execution_count": 12,
   "id": "91cdf9e3",
   "metadata": {},
   "outputs": [
    {
     "name": "stdout",
     "output_type": "stream",
     "text": [
      "Original Dictionary: {'name': 'John', 'age': 30, 'city': 'New York'}\n",
      "Name: John\n",
      "Age: 30\n",
      "After adding gender: {'name': 'John', 'age': 30, 'city': 'New York', 'gender': 'Male'}\n",
      "After modifying age: {'name': 'John', 'age': 35, 'city': 'New York', 'gender': 'Male'}\n",
      "After removing city: {'name': 'John', 'age': 35, 'gender': 'Male'}\n",
      "Keys:\n",
      "name\n",
      "age\n",
      "gender\n",
      "Values:\n",
      "John\n",
      "35\n",
      "Male\n",
      "Is 'name' in the dictionary? True\n",
      "Is 'city' in the dictionary? False\n"
     ]
    }
   ],
   "source": [
    "# Creating a dictionary\n",
    "my_dict = {'name': 'John', 'age': 30, 'city': 'New York'}\n",
    "\n",
    "# Displaying the dictionary\n",
    "print(\"Original Dictionary:\", my_dict)\n",
    "\n",
    "# Accessing elements\n",
    "print(\"Name:\", my_dict['name'])      # Output: John\n",
    "print(\"Age:\", my_dict['age'])        # Output: 30\n",
    "\n",
    "# Adding a new key-value pair\n",
    "my_dict['gender'] = 'Male'\n",
    "print(\"After adding gender:\", my_dict)  # Output: {'name': 'John', 'age': 30, 'city': 'New York', 'gender': 'Male'}\n",
    "\n",
    "# Modifying a value\n",
    "my_dict['age'] = 35\n",
    "print(\"After modifying age:\", my_dict)  # Output: {'name': 'John', 'age': 35, 'city': 'New York', 'gender': 'Male'}\n",
    "\n",
    "# Removing a key-value pair\n",
    "del my_dict['city']\n",
    "print(\"After removing city:\", my_dict)  # Output: {'name': 'John', 'age': 35, 'gender': 'Male'}\n",
    "\n",
    "# Iterating through keys\n",
    "print(\"Keys:\")\n",
    "for key in my_dict:\n",
    "    print(key)\n",
    "\n",
    "# Iterating through values\n",
    "print(\"Values:\")\n",
    "for value in my_dict.values():\n",
    "    print(value)\n",
    "\n",
    "# Checking for key existence\n",
    "print(\"Is 'name' in the dictionary?\", 'name' in my_dict)   # Output: True\n",
    "print(\"Is 'city' in the dictionary?\", 'city' in my_dict)   # Output: False\n"
   ]
  },
  {
   "cell_type": "code",
   "execution_count": null,
   "id": "59249185",
   "metadata": {},
   "outputs": [],
   "source": []
  }
 ],
 "metadata": {
  "kernelspec": {
   "display_name": "Python 3 (ipykernel)",
   "language": "python",
   "name": "python3"
  },
  "language_info": {
   "codemirror_mode": {
    "name": "ipython",
    "version": 3
   },
   "file_extension": ".py",
   "mimetype": "text/x-python",
   "name": "python",
   "nbconvert_exporter": "python",
   "pygments_lexer": "ipython3",
   "version": "3.10.9"
  }
 },
 "nbformat": 4,
 "nbformat_minor": 5
}
