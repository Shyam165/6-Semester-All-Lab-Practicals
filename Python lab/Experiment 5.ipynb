{
 "cells": [
  {
   "cell_type": "code",
   "execution_count": 1,
   "id": "975b3f85",
   "metadata": {},
   "outputs": [
    {
     "data": {
      "text/plain": [
       "'HELLOworld'"
      ]
     },
     "execution_count": 1,
     "metadata": {},
     "output_type": "execute_result"
    }
   ],
   "source": [
    "str=\" HELLO world \"\n",
    "str=str.replace(\" \", \"\")\n",
    "str"
   ]
  },
  {
   "cell_type": "code",
   "execution_count": 2,
   "id": "1c9265a3",
   "metadata": {},
   "outputs": [
    {
     "data": {
      "text/plain": [
       "'HELLO world'"
      ]
     },
     "execution_count": 2,
     "metadata": {},
     "output_type": "execute_result"
    }
   ],
   "source": [
    "str=\" HELLO world \"\n",
    "str=str.strip()\n",
    "str"
   ]
  },
  {
   "cell_type": "code",
   "execution_count": 3,
   "id": "b97f8242",
   "metadata": {},
   "outputs": [
    {
     "data": {
      "text/plain": [
       "'hello world'"
      ]
     },
     "execution_count": 3,
     "metadata": {},
     "output_type": "execute_result"
    }
   ],
   "source": [
    "str.lower()"
   ]
  },
  {
   "cell_type": "code",
   "execution_count": 4,
   "id": "01055184",
   "metadata": {},
   "outputs": [
    {
     "data": {
      "text/plain": [
       "'HELLO WORLD'"
      ]
     },
     "execution_count": 4,
     "metadata": {},
     "output_type": "execute_result"
    }
   ],
   "source": [
    "str.upper()"
   ]
  },
  {
   "cell_type": "code",
   "execution_count": 5,
   "id": "6c00fdfa",
   "metadata": {},
   "outputs": [
    {
     "data": {
      "text/plain": [
       "['hello', 'hi']"
      ]
     },
     "execution_count": 5,
     "metadata": {},
     "output_type": "execute_result"
    }
   ],
   "source": [
    "s=\"hello:hi\"\n",
    "s.split(\":\")  #always returns in a list as a output"
   ]
  },
  {
   "cell_type": "code",
   "execution_count": 6,
   "id": "7f827ce1",
   "metadata": {},
   "outputs": [
    {
     "data": {
      "text/plain": [
       "'hello:hiHELLO world'"
      ]
     },
     "execution_count": 6,
     "metadata": {},
     "output_type": "execute_result"
    }
   ],
   "source": [
    "#string concatenation\n",
    "s=s+str\n",
    "s"
   ]
  },
  {
   "cell_type": "code",
   "execution_count": 7,
   "id": "d4012e3e",
   "metadata": {},
   "outputs": [
    {
     "data": {
      "text/plain": [
       "['my', 'name', 'is', 'shyam']"
      ]
     },
     "execution_count": 7,
     "metadata": {},
     "output_type": "execute_result"
    }
   ],
   "source": [
    "s=\"my,name,is,shyam\"\n",
    "s=s.split(\",\")\n",
    "s"
   ]
  },
  {
   "cell_type": "code",
   "execution_count": 8,
   "id": "91419af2",
   "metadata": {},
   "outputs": [
    {
     "data": {
      "text/plain": [
       "'my@name@is@shyam'"
      ]
     },
     "execution_count": 8,
     "metadata": {},
     "output_type": "execute_result"
    }
   ],
   "source": [
    "#joining the split string s by  using @\n",
    "join_s = \"@\".join(s)\n",
    "join_s"
   ]
  },
  {
   "cell_type": "code",
   "execution_count": 9,
   "id": "ebe22f50",
   "metadata": {},
   "outputs": [
    {
     "name": "stdout",
     "output_type": "stream",
     "text": [
      "enter the name: shyam\n",
      " dob of  shyam  is  01/01/2003\n"
     ]
    }
   ],
   "source": [
    "dict={'shyam': '01-01-2003', 'rohit':'02-02-2004', 'rahul':'23-12-2002', 'ronak':'02-03-2005'}\n",
    "\n",
    "name=input(\"enter the name: \")\n",
    "\n",
    "if name in dict:\n",
    "    day, month, year=dict[name].split(\"-\")\n",
    "    l1=[day, month, year]\n",
    "    join_l1 = \"/\".join(l1)\n",
    "    print(\" dob of \", name, \" is \", join_l1)\n",
    "else:\n",
    "    \n",
    "    \n",
    "    print(name, \" is not found in birthday dict \")\n",
    "    "
   ]
  },
  {
   "cell_type": "code",
   "execution_count": null,
   "id": "cb0a4cc6",
   "metadata": {},
   "outputs": [],
   "source": [
    "age=21\n",
    "str1 = \"my age is {}\".format(age) \n",
    "str1"
   ]
  },
  {
   "cell_type": "code",
   "execution_count": 1,
   "id": "569eff22",
   "metadata": {},
   "outputs": [
    {
     "data": {
      "text/plain": [
       "['hello', 'hi', 'kjsdag', 'dskgja', 's', 'dskn', 'gdfg']"
      ]
     },
     "execution_count": 1,
     "metadata": {},
     "output_type": "execute_result"
    }
   ],
   "source": [
    "s=\"hello hi kjsdag  dskgja s dskn gdfg\"\n",
    "s.split()"
   ]
  },
  {
   "cell_type": "code",
   "execution_count": 10,
   "id": "f62c1e96",
   "metadata": {},
   "outputs": [
    {
     "name": "stdout",
     "output_type": "stream",
     "text": [
      "enter the number: 432\n",
      "432  is not an armstrong number:\n"
     ]
    }
   ],
   "source": [
    "#armstrong of a number\n",
    "num = int(input(\"enter the number: \"))\n",
    "temp = num\n",
    "sum=0\n",
    "while temp>0:\n",
    "    digit=temp%10\n",
    "    sum+=digit**3\n",
    "    temp//=10\n",
    "if num==sum:\n",
    "    print(num, \" is an armstrong number:\")\n",
    "else:\n",
    "     print(num, \" is not an armstrong number:\")"
   ]
  },
  {
   "cell_type": "code",
   "execution_count": 15,
   "id": "9f573db4",
   "metadata": {},
   "outputs": [
    {
     "name": "stdout",
     "output_type": "stream",
     "text": [
      "enter the number of terms: 5\n",
      "fabonacci series for  5  are :\n",
      "0\n",
      "1\n",
      "1\n",
      "2\n",
      "3\n"
     ]
    }
   ],
   "source": [
    "#fabonacci series\n",
    "nterms=int(input(\"enter the number of terms: \"))\n",
    "n1=0\n",
    "n2=1\n",
    "count=0\n",
    "if nterms<0:\n",
    "    print(\"enter positive n terms:\")\n",
    "elif nterms==1:\n",
    "    print(\"fabonacci series for \", nterms , \" are :\")\n",
    "    print(n1)\n",
    "else:\n",
    "    print(\"fabonacci series for \", nterms , \" are :\")\n",
    "    while count<nterms:\n",
    "        print(n1)\n",
    "        nth=n1+n2\n",
    "        n1=n2\n",
    "        n2=nth\n",
    "        count+=1"
   ]
  },
  {
   "cell_type": "code",
   "execution_count": 12,
   "id": "75a45d3b",
   "metadata": {},
   "outputs": [
    {
     "name": "stdout",
     "output_type": "stream",
     "text": [
      "enter the number: 234\n",
      "234  is not a palindrome number:\n"
     ]
    }
   ],
   "source": [
    "#palindrome of a number\n",
    "num = int(input(\"enter the number: \"))\n",
    "temp = num\n",
    "sum=0\n",
    "while temp>0:\n",
    "    digit=temp%10\n",
    "    sum=sum*10+digit\n",
    "    temp//=10\n",
    "if num==sum:\n",
    "    print(num, \" is a palindrome number:\")\n",
    "else:\n",
    "     print(num, \" is not a palindrome number:\")"
   ]
  },
  {
   "cell_type": "code",
   "execution_count": 20,
   "id": "3e898814",
   "metadata": {},
   "outputs": [
    {
     "name": "stdout",
     "output_type": "stream",
     "text": [
      "enter the number: 13\n",
      "prime number\n"
     ]
    }
   ],
   "source": [
    "#prime number\n",
    "num = int(input(\"enter the number: \"))\n",
    "flag=False\n",
    "if num==1:\n",
    "    print(\" 1 is not a prime number\")\n",
    "elif num>1:\n",
    "    for i in  range(2,num):\n",
    "        if num%i==0:\n",
    "            flag=True\n",
    "            break\n",
    "            \n",
    "    if flag:\n",
    "        print(\"not a prime number\")\n",
    "    else:\n",
    "        print(\"prime number\")"
   ]
  },
  {
   "cell_type": "code",
   "execution_count": 26,
   "id": "ae12419a",
   "metadata": {},
   "outputs": [
    {
     "name": "stdout",
     "output_type": "stream",
     "text": [
      "enter the string: my name is shyam\n",
      "{'m': 3, 'y': 2, ' ': 3, 'n': 1, 'a': 2, 'e': 1, 'i': 1, 's': 2, 'h': 1}\n"
     ]
    }
   ],
   "source": [
    "#count total number of char in the string and store each char with frequency in the dictionary\n",
    "\n",
    "mydict={}\n",
    "str=input(\"enter the string: \")\n",
    "for i in str:\n",
    "    count=0\n",
    "    for j in range(0,len(str)):\n",
    "        if i==str[j]:\n",
    "            count+=1\n",
    "    mydict[i]=count\n",
    "    \n",
    "print(mydict)\n",
    "    "
   ]
  },
  {
   "cell_type": "code",
   "execution_count": 30,
   "id": "11b0c538",
   "metadata": {},
   "outputs": [
    {
     "name": "stdout",
     "output_type": "stream",
     "text": [
      "{'one': 4, 'two': 3, 'three': 2, 'nine': 3, 'ten': 3, 'eight': 2, 'five': 1, 'six': 1, 'seven': 1}\n"
     ]
    }
   ],
   "source": [
    "#count total number of char in the string and store each char with frequency in the dictionary\n",
    "\n",
    "mydict={}\n",
    "str=\"one one two three nine ten eight ten nine two one five six seven eight nine ten one two three\"\n",
    "li = list(str.split())\n",
    "for i in li:\n",
    "    count=0\n",
    "    for j in range(0,len(li)):\n",
    "        if i==li[j]:\n",
    "            count+=1\n",
    "    mydict[i]=count\n",
    "    \n",
    "print(mydict)\n",
    "    "
   ]
  },
  {
   "cell_type": "code",
   "execution_count": null,
   "id": "0c12fa79",
   "metadata": {},
   "outputs": [],
   "source": []
  },
  {
   "cell_type": "code",
   "execution_count": 7,
   "id": "1db96b67",
   "metadata": {},
   "outputs": [
    {
     "name": "stdout",
     "output_type": "stream",
     "text": [
      "enter the name: rahul\n",
      " the birthday of rahul is on 23/12/2002\n"
     ]
    }
   ],
   "source": [
    "#find the birthday of the student by using name from the dictionary\n",
    "\n",
    "dict={'shyam': '01-01-2003', 'rohit':'02-02-2004', 'rahul':'23-12-2002', 'ronak':'02-03-2005'}\n",
    "\n",
    "name = input(\"enter the name: \")\n",
    "\n",
    "if name in dict:\n",
    "    day, month, year = dict[name].split(\"-\")\n",
    "    l1=[day, month, year]\n",
    "    birth = \"/\".join(l1)\n",
    "    print(\" the birthday of {} is on {}\".format(name, birth))\n",
    "    \n",
    "else:\n",
    "    print(name, \" is not found in the dict\")"
   ]
  },
  {
   "cell_type": "code",
   "execution_count": 35,
   "id": "2bf7b28b",
   "metadata": {},
   "outputs": [
    {
     "name": "stdout",
     "output_type": "stream",
     "text": [
      "array('i', [11, 12, 22, 34, 34, 45])\n"
     ]
    }
   ],
   "source": [
    "#Insertion sort\n",
    "import array\n",
    "\n",
    "arr=array.array('i',[12,34,11,22,45,34])\n",
    "for i in range(1, len(arr)):\n",
    "    temp = arr[i]\n",
    "    j=i-1\n",
    "    while j>=0 and arr[j]>temp:\n",
    "        arr[j+1]= arr[j]\n",
    "        j-=1\n",
    "    arr[j+1]=temp\n",
    "    \n",
    "print(arr)\n",
    "\n"
   ]
  },
  {
   "cell_type": "code",
   "execution_count": 5,
   "id": "4c0018f3",
   "metadata": {},
   "outputs": [
    {
     "name": "stdout",
     "output_type": "stream",
     "text": [
      "array('i', [11, 12, 22, 34, 34, 45])\n"
     ]
    }
   ],
   "source": [
    "#Selection Sort\n",
    "import array\n",
    "arr=array.array('i',[12,34,11,22,45,34])\n",
    "for i in range(0, len(arr)-1):\n",
    "    min=i\n",
    "    for j in range(i+1, len(arr)):\n",
    "        if arr[j]<arr[min]:\n",
    "            min=j\n",
    "    if min!=i:\n",
    "        temp =arr[i]\n",
    "        arr[i]=arr[min]\n",
    "        arr[min]=temp\n",
    "print(arr)"
   ]
  },
  {
   "cell_type": "code",
   "execution_count": 10,
   "id": "0f4277f1",
   "metadata": {},
   "outputs": [
    {
     "data": {
      "text/plain": [
       "{1: ['a', 'b', 'c', 'd'],\n",
       " 2: ['a', 'b', 'c', 'd'],\n",
       " 3: ['a', 'b', 'c', 'd'],\n",
       " 4: ['a', 'b', 'c', 'd']}"
      ]
     },
     "execution_count": 10,
     "metadata": {},
     "output_type": "execute_result"
    }
   ],
   "source": [
    "key=[1,2,3,4,3]\n",
    "value=['a','b','c','d']\n",
    "my=dict.fromkeys(key, value)\n",
    "my"
   ]
  },
  {
   "cell_type": "code",
   "execution_count": 13,
   "id": "678665d8",
   "metadata": {},
   "outputs": [
    {
     "data": {
      "text/plain": [
       "{1: 'a', 2: 'b', 3: 'c', 4: 'd'}"
      ]
     },
     "execution_count": 13,
     "metadata": {},
     "output_type": "execute_result"
    }
   ],
   "source": [
    "key=[1,2,3,4,3]\n",
    "value=['a','b','c','d']\n",
    "my={k:v for (k,v) in zip(key, value)}\n",
    "my"
   ]
  },
  {
   "cell_type": "code",
   "execution_count": 2,
   "id": "2aad2fb7",
   "metadata": {},
   "outputs": [
    {
     "name": "stdout",
     "output_type": "stream",
     "text": [
      "shyam singh\n"
     ]
    }
   ],
   "source": [
    "class Person:\n",
    "    def __init__(self, fname, lname):\n",
    "        self.firstname=fname\n",
    "        self.lastname=lname\n",
    "        \n",
    "    def Print(self):\n",
    "        print(self.firstname, self.lastname)\n",
    "            \n",
    "x=Person(\"shyam\", \"singh\")\n",
    "x.Print()"
   ]
  },
  {
   "cell_type": "code",
   "execution_count": 1,
   "id": "139422fd",
   "metadata": {},
   "outputs": [
    {
     "name": "stdout",
     "output_type": "stream",
     "text": [
      "2212268475664\n",
      "2212268475664\n"
     ]
    }
   ],
   "source": [
    "a=34\n",
    "b=a\n",
    "print(id(a))\n",
    "print(id(b))"
   ]
  },
  {
   "cell_type": "code",
   "execution_count": 2,
   "id": "2039b040",
   "metadata": {},
   "outputs": [
    {
     "name": "stdout",
     "output_type": "stream",
     "text": [
      "90\n"
     ]
    }
   ],
   "source": [
    "a=90\n",
    "print(a)"
   ]
  },
  {
   "cell_type": "code",
   "execution_count": 3,
   "id": "14ff3d69",
   "metadata": {},
   "outputs": [
    {
     "data": {
      "text/plain": [
       "34"
      ]
     },
     "execution_count": 3,
     "metadata": {},
     "output_type": "execute_result"
    }
   ],
   "source": [
    "b"
   ]
  },
  {
   "cell_type": "code",
   "execution_count": null,
   "id": "96f46989",
   "metadata": {},
   "outputs": [],
   "source": []
  }
 ],
 "metadata": {
  "kernelspec": {
   "display_name": "Python 3 (ipykernel)",
   "language": "python",
   "name": "python3"
  },
  "language_info": {
   "codemirror_mode": {
    "name": "ipython",
    "version": 3
   },
   "file_extension": ".py",
   "mimetype": "text/x-python",
   "name": "python",
   "nbconvert_exporter": "python",
   "pygments_lexer": "ipython3",
   "version": "3.10.9"
  }
 },
 "nbformat": 4,
 "nbformat_minor": 5
}
