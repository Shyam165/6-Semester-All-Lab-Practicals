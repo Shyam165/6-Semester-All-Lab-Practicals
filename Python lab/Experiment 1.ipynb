{
 "cells": [
  {
   "cell_type": "code",
   "execution_count": 2,
   "id": "86e3e2e4",
   "metadata": {},
   "outputs": [],
   "source": [
    "import os"
   ]
  },
  {
   "cell_type": "code",
   "execution_count": 15,
   "id": "f6c459c5",
   "metadata": {},
   "outputs": [
    {
     "name": "stdout",
     "output_type": "stream",
     "text": [
      "90 90.4 sh\n"
     ]
    }
   ],
   "source": [
    "a=90\n",
    "b=90.4 \n",
    "c = \"sh\"\n",
    "print(a,b,c)"
   ]
  },
  {
   "cell_type": "code",
   "execution_count": 9,
   "id": "0a83b4a1",
   "metadata": {},
   "outputs": [
    {
     "name": "stdout",
     "output_type": "stream",
     "text": [
      "hello\" world  hdsgn\n"
     ]
    }
   ],
   "source": [
    "print(\"hello\\\" world\",\" hdsgn\")"
   ]
  },
  {
   "cell_type": "code",
   "execution_count": 13,
   "id": "519b8ccd",
   "metadata": {},
   "outputs": [
    {
     "name": "stdout",
     "output_type": "stream",
     "text": [
      "<class 'int'>\n",
      "<class 'NoneType'>\n",
      "<class 'bool'>\n"
     ]
    }
   ],
   "source": [
    "print(type(a))\n",
    "s=None\n",
    "s1=True\n",
    "print(type(s))\n",
    "print(type(s1))"
   ]
  },
  {
   "cell_type": "markdown",
   "id": "79bf9498",
   "metadata": {},
   "source": [
    "data types: 1.  mutable or immutable data types   2. mutable ----> set, list, dictionary  "
   ]
  },
  {
   "cell_type": "code",
   "execution_count": 23,
   "id": "e5ce75da",
   "metadata": {},
   "outputs": [
    {
     "name": "stdout",
     "output_type": "stream",
     "text": [
      "8100\n",
      "0\n"
     ]
    }
   ],
   "source": [
    "print(a**2)   \n",
    "\n",
    "print(a%2)"
   ]
  },
  {
   "cell_type": "code",
   "execution_count": 21,
   "id": "a1d59c6e",
   "metadata": {},
   "outputs": [
    {
     "data": {
      "text/plain": [
       "8100"
      ]
     },
     "execution_count": 21,
     "metadata": {},
     "output_type": "execute_result"
    }
   ],
   "source": [
    "pow(a,2)"
   ]
  },
  {
   "cell_type": "markdown",
   "id": "b51ebf16",
   "metadata": {},
   "source": [
    "# 2. Write a program to demonstrate basic data type in python."
   ]
  },
  {
   "cell_type": "code",
   "execution_count": 1,
   "id": "da3cb011",
   "metadata": {},
   "outputs": [
    {
     "name": "stdout",
     "output_type": "stream",
     "text": [
      "Integer: 10\n",
      "Float: 3.14\n",
      "String: Hello, world!\n",
      "Boolean: True\n"
     ]
    }
   ],
   "source": [
    "# Program to demonstrate basic data types in Python\n",
    "\n",
    "# Integer\n",
    "num_int = 10\n",
    "\n",
    "# Float\n",
    "num_float = 3.14\n",
    "\n",
    "# String\n",
    "str_var = \"Hello, world!\"\n",
    "\n",
    "# Boolean\n",
    "bool_var = True\n",
    "\n",
    "# Printing the data types\n",
    "print(\"Integer:\", num_int)\n",
    "print(\"Float:\", num_float)\n",
    "print(\"String:\", str_var)\n",
    "print(\"Boolean:\", bool_var)\n"
   ]
  },
  {
   "cell_type": "markdown",
   "id": "a727cd8a",
   "metadata": {},
   "source": [
    "# 3. Write a program to compute distance between two points taking input from the user"
   ]
  },
  {
   "cell_type": "code",
   "execution_count": 2,
   "id": "aabd7e6d",
   "metadata": {},
   "outputs": [
    {
     "name": "stdout",
     "output_type": "stream",
     "text": [
      "Enter x coordinate of first point: 3\n",
      "Enter y coordinate of first point: 4\n",
      "Enter x coordinate of second point: 6\n",
      "Enter y coordinate of second point: 8\n",
      "distance between the points: 5.0\n"
     ]
    }
   ],
   "source": [
    "# Taking input from user\n",
    "x1 = float(input(\"Enter x coordinate of first point: \"))\n",
    "y1 = float(input(\"Enter y coordinate of first point: \"))\n",
    "x2 = float(input(\"Enter x coordinate of second point: \"))\n",
    "y2 = float(input(\"Enter y coordinate of second point: \"))\n",
    "\n",
    "# Calculating distance between two points\n",
    "distance = ((x2 - x1) ** 2 + (y2 - y1) ** 2)**0.5\n",
    "\n",
    "# Printing the distance\n",
    "print(\"distance between the points:\", distance)\n",
    "\n"
   ]
  },
  {
   "cell_type": "markdown",
   "id": "e366bd49",
   "metadata": {},
   "source": [
    "# 4. Write a program add.py that takes 2 numbers as input from user and prints its sum"
   ]
  },
  {
   "cell_type": "code",
   "execution_count": 3,
   "id": "520a8613",
   "metadata": {},
   "outputs": [
    {
     "name": "stdout",
     "output_type": "stream",
     "text": [
      "Enter first number: 23\n",
      "Enter second number: 34\n",
      "Sum of 23.0 and 34.0 is: 57.0\n"
     ]
    }
   ],
   "source": [
    "# Program to add two numbers\n",
    "\n",
    "# Taking input from user\n",
    "num1 = float(input(\"Enter first number: \"))\n",
    "num2 = float(input(\"Enter second number: \"))\n",
    "\n",
    "# Adding the numbers\n",
    "sum_result = num1 + num2\n",
    "\n",
    "# Printing the sum\n",
    "print(\"Sum of\", num1, \"and\", num2, \"is:\", sum_result)\n"
   ]
  },
  {
   "cell_type": "code",
   "execution_count": null,
   "id": "60b61f68",
   "metadata": {},
   "outputs": [],
   "source": []
  }
 ],
 "metadata": {
  "kernelspec": {
   "display_name": "Python 3 (ipykernel)",
   "language": "python",
   "name": "python3"
  },
  "language_info": {
   "codemirror_mode": {
    "name": "ipython",
    "version": 3
   },
   "file_extension": ".py",
   "mimetype": "text/x-python",
   "name": "python",
   "nbconvert_exporter": "python",
   "pygments_lexer": "ipython3",
   "version": "3.10.9"
  }
 },
 "nbformat": 4,
 "nbformat_minor": 5
}
